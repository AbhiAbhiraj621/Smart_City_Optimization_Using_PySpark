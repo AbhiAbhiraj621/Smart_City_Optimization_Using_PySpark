{
  "nbformat": 4,
  "nbformat_minor": 0,
  "metadata": {
    "colab": {
      "provenance": [],
      "authorship_tag": "ABX9TyPLMLS7gCiOG2D+8wKxb4Qx",
      "include_colab_link": true
    },
    "kernelspec": {
      "name": "python3",
      "display_name": "Python 3"
    },
    "language_info": {
      "name": "python"
    }
  },
  "cells": [
    {
      "cell_type": "markdown",
      "metadata": {
        "id": "view-in-github",
        "colab_type": "text"
      },
      "source": [
        "<a href=\"https://colab.research.google.com/github/AbhiAbhiraj621/Smart_City_Optimization_Using_PySpark/blob/main/Smart_City_Optimization.ipynb\" target=\"_parent\"><img src=\"https://colab.research.google.com/assets/colab-badge.svg\" alt=\"Open In Colab\"/></a>"
      ]
    },
    {
      "cell_type": "code",
      "execution_count": 1,
      "metadata": {
        "id": "mJGLx-lObzuW"
      },
      "outputs": [],
      "source": [
        "from pyspark.sql import SparkSession\n",
        "from pyspark.sql.functions import *\n",
        "\n",
        "spark = SparkSession.builder.getOrCreate()"
      ]
    },
    {
      "cell_type": "code",
      "source": [
        "df = spark.read.csv('/content/sample_data/smart_city_energy.csv', header = True, inferSchema = True)\n",
        "df.show()"
      ],
      "metadata": {
        "colab": {
          "base_uri": "https://localhost:8080/"
        },
        "id": "jD0muLe-ejGl",
        "outputId": "7825f660-35e7-4616-bb37-21a1d8adcea9"
      },
      "execution_count": 2,
      "outputs": [
        {
          "output_type": "stream",
          "name": "stdout",
          "text": [
            "+-------+-------------------+---------------+-------------+----------------+\n",
            "|zone_id|          timestamp|consumption_kwh|temperature_c|humidity_percent|\n",
            "+-------+-------------------+---------------+-------------+----------------+\n",
            "| Zone_1|2025-01-01 00:00:00|           3.08|         24.4|            56.4|\n",
            "| Zone_2|2025-01-01 00:00:00|           1.91|         31.4|            52.0|\n",
            "| Zone_3|2025-01-01 00:00:00|           2.05|         22.6|            48.8|\n",
            "| Zone_4|2025-01-01 00:00:00|           2.01|         27.3|            62.7|\n",
            "| Zone_5|2025-01-01 00:00:00|            1.5|         23.6|            56.5|\n",
            "| Zone_6|2025-01-01 00:00:00|           2.51|         24.2|            59.6|\n",
            "| Zone_7|2025-01-01 00:00:00|           1.02|         32.0|            66.5|\n",
            "| Zone_8|2025-01-01 00:00:00|           1.49|         28.6|            75.5|\n",
            "| Zone_9|2025-01-01 00:00:00|           1.53|         22.5|            62.4|\n",
            "|Zone_10|2025-01-01 00:00:00|           1.57|         21.6|            58.0|\n",
            "| Zone_1|2025-01-01 01:00:00|           2.54|         19.2|            63.1|\n",
            "| Zone_2|2025-01-01 01:00:00|           1.81|         27.5|            54.0|\n",
            "| Zone_3|2025-01-01 01:00:00|           1.68|         16.0|            48.7|\n",
            "| Zone_4|2025-01-01 01:00:00|           2.12|         27.0|            58.3|\n",
            "| Zone_5|2025-01-01 01:00:00|           2.24|         26.5|            64.0|\n",
            "| Zone_6|2025-01-01 01:00:00|           2.69|         17.1|            49.2|\n",
            "| Zone_7|2025-01-01 01:00:00|           1.87|         25.1|            48.3|\n",
            "| Zone_8|2025-01-01 01:00:00|           1.11|         26.1|            53.4|\n",
            "| Zone_9|2025-01-01 01:00:00|           1.57|         18.7|            69.9|\n",
            "|Zone_10|2025-01-01 01:00:00|           2.59|         19.5|            71.4|\n",
            "+-------+-------------------+---------------+-------------+----------------+\n",
            "only showing top 20 rows\n",
            "\n"
          ]
        }
      ]
    },
    {
      "cell_type": "code",
      "source": [
        "df.printSchema()"
      ],
      "metadata": {
        "colab": {
          "base_uri": "https://localhost:8080/"
        },
        "id": "MIMlkDBme81T",
        "outputId": "54380672-d7fc-472b-93da-041646521255"
      },
      "execution_count": 3,
      "outputs": [
        {
          "output_type": "stream",
          "name": "stdout",
          "text": [
            "root\n",
            " |-- zone_id: string (nullable = true)\n",
            " |-- timestamp: timestamp (nullable = true)\n",
            " |-- consumption_kwh: double (nullable = true)\n",
            " |-- temperature_c: double (nullable = true)\n",
            " |-- humidity_percent: double (nullable = true)\n",
            "\n"
          ]
        }
      ]
    },
    {
      "cell_type": "code",
      "source": [
        "# Handling missing values\n",
        "df = df.na.drop()\n",
        "df = df.filter(df['consumption_kwh'] > 0)"
      ],
      "metadata": {
        "id": "L83K5EqifCV6"
      },
      "execution_count": 10,
      "outputs": []
    },
    {
      "cell_type": "code",
      "source": [
        "# Extracting hour and date\n",
        "df = df.withColumn('date', to_date('timestamp'))\n",
        "df = df.withColumn('hour',hour('timestamp'))"
      ],
      "metadata": {
        "id": "_zPLXtD9fx29"
      },
      "execution_count": 14,
      "outputs": []
    },
    {
      "cell_type": "code",
      "source": [
        "# What is the total consumption per zone\n",
        "df.groupBy('zone_id').sum('consumption_kwh').orderBy('sum(consumption_kwh)',ascending=False).show()"
      ],
      "metadata": {
        "colab": {
          "base_uri": "https://localhost:8080/"
        },
        "id": "k_tVxLc2gbkA",
        "outputId": "37fe4e58-4f0a-47ac-b8f6-337dee4b14a4"
      },
      "execution_count": 16,
      "outputs": [
        {
          "output_type": "stream",
          "name": "stdout",
          "text": [
            "+-------+--------------------+\n",
            "|zone_id|sum(consumption_kwh)|\n",
            "+-------+--------------------+\n",
            "| Zone_2|  2157.1600000000008|\n",
            "|Zone_10|   2153.519999999998|\n",
            "| Zone_3|   2144.750000000003|\n",
            "| Zone_1|             2144.21|\n",
            "| Zone_9|  2136.9399999999982|\n",
            "| Zone_4|   2130.450000000001|\n",
            "| Zone_6|  2129.6800000000003|\n",
            "| Zone_8|  2125.2400000000016|\n",
            "| Zone_7|             2124.48|\n",
            "| Zone_5|  2124.3900000000044|\n",
            "+-------+--------------------+\n",
            "\n"
          ]
        }
      ]
    },
    {
      "cell_type": "code",
      "source": [
        "# What is the average hourly consumption\n",
        "df.groupBy('hour').avg('consumption_kwh').orderBy('hour').show()"
      ],
      "metadata": {
        "colab": {
          "base_uri": "https://localhost:8080/"
        },
        "id": "657NzhV0gbge",
        "outputId": "ca8eb48c-fd62-460c-c941-ee8371638d2d"
      },
      "execution_count": 17,
      "outputs": [
        {
          "output_type": "stream",
          "name": "stdout",
          "text": [
            "+----+--------------------+\n",
            "|hour|avg(consumption_kwh)|\n",
            "+----+--------------------+\n",
            "|   0|  1.9664999999999995|\n",
            "|   1|   1.993366666666667|\n",
            "|   2|  2.0501333333333323|\n",
            "|   3|   2.014247491638797|\n",
            "|   4|   2.000633333333334|\n",
            "|   5|  1.9138000000000022|\n",
            "|   6|   2.027166666666666|\n",
            "|   7|  3.0364999999999975|\n",
            "|   8|   3.000033333333333|\n",
            "|   9|  2.9562333333333353|\n",
            "|  10|  3.0318333333333336|\n",
            "|  11|  3.0034666666666667|\n",
            "|  12|  3.0085333333333324|\n",
            "|  13|              3.0407|\n",
            "|  14|   3.016199999999998|\n",
            "|  15|  3.0098999999999996|\n",
            "|  16|  2.9806333333333326|\n",
            "|  17|   3.002266666666668|\n",
            "|  18|  4.0442333333333345|\n",
            "|  19|    4.06026666666667|\n",
            "+----+--------------------+\n",
            "only showing top 20 rows\n",
            "\n"
          ]
        }
      ]
    },
    {
      "cell_type": "code",
      "source": [
        "# Is there any correlation with the weather\n",
        "df.select('consumption_kwh','temperature_c','humidity_percent').show()"
      ],
      "metadata": {
        "colab": {
          "base_uri": "https://localhost:8080/"
        },
        "id": "0fkXxQRsgbeK",
        "outputId": "16d06667-1d1b-4295-f479-bd2bdebc29b9"
      },
      "execution_count": 19,
      "outputs": [
        {
          "output_type": "stream",
          "name": "stdout",
          "text": [
            "+---------------+-------------+----------------+\n",
            "|consumption_kwh|temperature_c|humidity_percent|\n",
            "+---------------+-------------+----------------+\n",
            "|           3.08|         24.4|            56.4|\n",
            "|           1.91|         31.4|            52.0|\n",
            "|           2.05|         22.6|            48.8|\n",
            "|           2.01|         27.3|            62.7|\n",
            "|            1.5|         23.6|            56.5|\n",
            "|           2.51|         24.2|            59.6|\n",
            "|           1.02|         32.0|            66.5|\n",
            "|           1.49|         28.6|            75.5|\n",
            "|           1.53|         22.5|            62.4|\n",
            "|           1.57|         21.6|            58.0|\n",
            "|           2.54|         19.2|            63.1|\n",
            "|           1.81|         27.5|            54.0|\n",
            "|           1.68|         16.0|            48.7|\n",
            "|           2.12|         27.0|            58.3|\n",
            "|           2.24|         26.5|            64.0|\n",
            "|           2.69|         17.1|            49.2|\n",
            "|           1.87|         25.1|            48.3|\n",
            "|           1.11|         26.1|            53.4|\n",
            "|           1.57|         18.7|            69.9|\n",
            "|           2.59|         19.5|            71.4|\n",
            "+---------------+-------------+----------------+\n",
            "only showing top 20 rows\n",
            "\n"
          ]
        }
      ]
    },
    {
      "cell_type": "code",
      "source": [
        "# When is the peak usage for each zone\n",
        "from pyspark.sql.window import Window\n",
        "\n",
        "peak_usage = df.groupBy('zone_id','hour').agg(avg('consumption_kwh').alias('avg_consumption')).orderBy('zone_id','avg_consumption',ascending=False)\n",
        "\n",
        "window_spec = Window.partitionBy('zone_id').orderBy(peak_usage['avg_consumption'].desc())\n",
        "peak_hour_per_zone = peak_usage.withColumn('rank', row_number().over(window_spec)).filter('rank = 1').select('zone_id','hour','avg_consumption')\n",
        "peak_hour_per_zone.show()"
      ],
      "metadata": {
        "colab": {
          "base_uri": "https://localhost:8080/"
        },
        "id": "6OHBOeLPgbTT",
        "outputId": "bb6b09ea-3bb7-4983-9b5f-8495dc6cb2a6"
      },
      "execution_count": 20,
      "outputs": [
        {
          "output_type": "stream",
          "name": "stdout",
          "text": [
            "+-------+----+------------------+\n",
            "|zone_id|hour|   avg_consumption|\n",
            "+-------+----+------------------+\n",
            "| Zone_1|  22|4.1386666666666665|\n",
            "|Zone_10|  21|              4.21|\n",
            "| Zone_2|  19| 4.184999999999999|\n",
            "| Zone_3|  19| 4.138333333333333|\n",
            "| Zone_4|  20| 4.102666666666667|\n",
            "| Zone_5|  19|4.2490000000000006|\n",
            "| Zone_6|  20|             4.175|\n",
            "| Zone_7|  23|              4.18|\n",
            "| Zone_8|  20|4.1339999999999995|\n",
            "| Zone_9|  19|             4.121|\n",
            "+-------+----+------------------+\n",
            "\n"
          ]
        }
      ]
    },
    {
      "cell_type": "code",
      "source": [
        "# How temperature affects usage\n",
        "correlation = df.stat.corr('temperature_c','consumption_kwh')\n",
        "print(correlation)"
      ],
      "metadata": {
        "colab": {
          "base_uri": "https://localhost:8080/"
        },
        "id": "XeQspZEbi3_e",
        "outputId": "55b5033b-3266-4130-e87c-291ced7c99f6"
      },
      "execution_count": 21,
      "outputs": [
        {
          "output_type": "stream",
          "name": "stdout",
          "text": [
            "0.036882934312364245\n"
          ]
        }
      ]
    },
    {
      "cell_type": "code",
      "source": [
        "# Which are the zone with highest average peak-hour consumption\n",
        "peak_zone_consumption = df.filter('hour >= 18 AND hour <= 22').groupBy('zone_id').avg('consumption_kwh').orderBy('avg(consumption_kwh)',ascending=False)\n",
        "peak_zone_consumption.show()"
      ],
      "metadata": {
        "colab": {
          "base_uri": "https://localhost:8080/"
        },
        "id": "LWVODumOjNCK",
        "outputId": "933fa0f5-1227-43d7-e90a-3bb3494caf92"
      },
      "execution_count": 23,
      "outputs": [
        {
          "output_type": "stream",
          "name": "stdout",
          "text": [
            "+-------+--------------------+\n",
            "|zone_id|avg(consumption_kwh)|\n",
            "+-------+--------------------+\n",
            "|Zone_10|   4.108666666666669|\n",
            "| Zone_5|   4.053933333333335|\n",
            "| Zone_3|   4.047933333333336|\n",
            "| Zone_8|   4.042399999999996|\n",
            "| Zone_1|   4.034333333333333|\n",
            "| Zone_9|   4.029066666666667|\n",
            "| Zone_2|   4.021866666666666|\n",
            "| Zone_7|              4.0022|\n",
            "| Zone_6|  3.9963999999999995|\n",
            "| Zone_4|   3.956799999999999|\n",
            "+-------+--------------------+\n",
            "\n"
          ]
        }
      ]
    }
  ]
}